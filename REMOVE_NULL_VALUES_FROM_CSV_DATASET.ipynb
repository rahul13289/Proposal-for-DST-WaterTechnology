{
  "nbformat": 4,
  "nbformat_minor": 0,
  "metadata": {
    "colab": {
      "provenance": []
    },
    "kernelspec": {
      "name": "python3",
      "display_name": "Python 3"
    },
    "language_info": {
      "name": "python"
    }
  },
  "cells": [
    {
      "cell_type": "code",
      "execution_count": 1,
      "metadata": {
        "id": "VRIg8KNJlbrd"
      },
      "outputs": [],
      "source": [
        "import pandas as pd"
      ]
    },
    {
      "cell_type": "code",
      "source": [
        "df = pd.read_csv('IndiaGW.csv')"
      ],
      "metadata": {
        "id": "uQLqf_oVl7w_"
      },
      "execution_count": 2,
      "outputs": []
    },
    {
      "cell_type": "code",
      "source": [
        "# Identify the columns with null values\n",
        "cols_with_null_values = df.columns[df.isnull().any()]"
      ],
      "metadata": {
        "id": "jbEW__y2l_tn"
      },
      "execution_count": 3,
      "outputs": []
    },
    {
      "cell_type": "code",
      "source": [
        "# Remove the null values from the columns\n",
        "df = df.dropna(subset=cols_with_null_values)"
      ],
      "metadata": {
        "id": "MNIKXHH3mB5y"
      },
      "execution_count": 4,
      "outputs": []
    },
    {
      "cell_type": "code",
      "source": [
        "# Save the updated CSV dataset\n",
        "df.to_csv('updated_dataset.csv', index=False)"
      ],
      "metadata": {
        "id": "XgclSCVmmF-5"
      },
      "execution_count": 5,
      "outputs": []
    }
  ]
}